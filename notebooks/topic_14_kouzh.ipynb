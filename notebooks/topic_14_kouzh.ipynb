{
  "cells": [
    {
      "cell_type": "markdown",
      "metadata": {
        "id": "BjGEif-YAG1K"
      },
      "source": [
        "Устанавливаем библиотеки: pandas - для работы с таблицами, pyreadstat - для чтения файлов из статистических программ (типа SPSS). Обязательно указываем версию библиотеки через ==, потому что код, работающий в одной версии, может не работать в другой.  \n",
        "Документации на них:\n",
        "\n",
        "https://pandas.pydata.org\n",
        "\n",
        "https://ofajardo.github.io/pyreadstat_documentation/_build/html/index.html\n"
      ]
    },
    {
      "cell_type": "code",
      "execution_count": 1,
      "metadata": {
        "colab": {
          "base_uri": "https://localhost:8080/"
        },
        "id": "B_HJpLcP3hnG",
        "outputId": "82108007-1dfe-4b72-a1ec-0beb937568ae"
      },
      "outputs": [
        {
          "output_type": "stream",
          "name": "stdout",
          "text": [
            "Looking in indexes: https://pypi.org/simple, https://us-python.pkg.dev/colab-wheels/public/simple/\n",
            "Collecting pandas==1.4.2\n",
            "  Downloading pandas-1.4.2-cp39-cp39-manylinux_2_17_x86_64.manylinux2014_x86_64.whl (11.7 MB)\n",
            "\u001b[2K     \u001b[90m━━━━━━━━━━━━━━━━━━━━━━━━━━━━━━━━━━━━━━━━\u001b[0m \u001b[32m11.7/11.7 MB\u001b[0m \u001b[31m49.2 MB/s\u001b[0m eta \u001b[36m0:00:00\u001b[0m\n",
            "\u001b[?25hCollecting pyreadstat==1.2.0\n",
            "  Downloading pyreadstat-1.2.0-cp39-cp39-manylinux_2_17_x86_64.manylinux2014_x86_64.whl (2.7 MB)\n",
            "\u001b[2K     \u001b[90m━━━━━━━━━━━━━━━━━━━━━━━━━━━━━━━━━━━━━━━━\u001b[0m \u001b[32m2.7/2.7 MB\u001b[0m \u001b[31m4.2 MB/s\u001b[0m eta \u001b[36m0:00:00\u001b[0m\n",
            "\u001b[?25hRequirement already satisfied: numpy>=1.18.5 in /usr/local/lib/python3.9/dist-packages (from pandas==1.4.2) (1.22.4)\n",
            "Requirement already satisfied: pytz>=2020.1 in /usr/local/lib/python3.9/dist-packages (from pandas==1.4.2) (2022.7.1)\n",
            "Requirement already satisfied: python-dateutil>=2.8.1 in /usr/local/lib/python3.9/dist-packages (from pandas==1.4.2) (2.8.2)\n",
            "Requirement already satisfied: six>=1.5 in /usr/local/lib/python3.9/dist-packages (from python-dateutil>=2.8.1->pandas==1.4.2) (1.16.0)\n",
            "Installing collected packages: pandas, pyreadstat\n",
            "  Attempting uninstall: pandas\n",
            "    Found existing installation: pandas 1.4.4\n",
            "    Uninstalling pandas-1.4.4:\n",
            "      Successfully uninstalled pandas-1.4.4\n",
            "Successfully installed pandas-1.4.2 pyreadstat-1.2.0\n"
          ]
        }
      ],
      "source": [
        "!pip install pandas==1.4.2 pyreadstat==1.2.0"
      ]
    },
    {
      "cell_type": "markdown",
      "metadata": {
        "id": "nfGf1KpqdWJO"
      },
      "source": [
        "Подключаем Google Disk, надо будет дать разрешение этой jupyter-notebook тетрадке на чтение/запись с него. Файлы *.sav должны быть заранее загружены на Google Disk. Если они загружены не в корень диска, а в подпапку, надо будет поменять переменные fpath (cм. ниже)"
      ]
    },
    {
      "cell_type": "code",
      "execution_count": 2,
      "metadata": {
        "colab": {
          "base_uri": "https://localhost:8080/"
        },
        "id": "mf_hJ0IKdLKW",
        "outputId": "88c2b94a-824c-42fc-b81f-c9fd7b0c983d"
      },
      "outputs": [
        {
          "output_type": "stream",
          "name": "stdout",
          "text": [
            "Mounted at /content/drive\n"
          ]
        }
      ],
      "source": [
        "from google.colab import drive\n",
        "drive.mount('/content/drive')"
      ]
    },
    {
      "cell_type": "code",
      "execution_count": 3,
      "metadata": {
        "id": "GGiX_7WI3gDd"
      },
      "outputs": [],
      "source": [
        "# импортируем библиотеку pyreadstat, \n",
        "# которая ориентирована на работу с форматами статистических (в т.ч., платных) программ.\n",
        "import pyreadstat\n",
        "import numpy as np"
      ]
    },
    {
      "cell_type": "code",
      "source": [
        "fpath_2016 = 'drive/MyDrive/коуж/IND_2016.sav'\n",
        "df_2016, meta_2016 = pyreadstat.read_file_multiprocessing(pyreadstat.read_sav, fpath_2016, num_processes=16, encoding='cp1251') "
      ],
      "metadata": {
        "id": "ESXSLfj1glvH"
      },
      "execution_count": 5,
      "outputs": []
    },
    {
      "cell_type": "code",
      "source": [
        "fpath_2018 = 'drive/MyDrive/коуж/IND_2018.sav'\n",
        "df_2018, meta_2018 = pyreadstat.read_file_multiprocessing(pyreadstat.read_sav, fpath_2018, num_processes=16, encoding='cp1251') "
      ],
      "metadata": {
        "id": "PppTeAokgM00"
      },
      "execution_count": 6,
      "outputs": []
    },
    {
      "cell_type": "code",
      "execution_count": 8,
      "metadata": {
        "id": "stmkYe6t3gDj"
      },
      "outputs": [],
      "source": [
        "# В программе учебной дисциплины заявлен анализ по 2011, 2014 году, но в данных по ним нет нужных нам переменных.\n",
        "\n",
        "# Источник данных: https://gks.ru/ .\n",
        "\n",
        "fpath_2020 = 'drive/MyDrive/коуж/IND_OSN_2020.sav'\n",
        "df_2020, meta_2020 = pyreadstat.read_file_multiprocessing(pyreadstat.read_sav, fpath_2020, num_processes=16, encoding='cp1251') \n",
        "selection = [\n",
        "     'I09_09', # Оценка безопасности района проживания респондента в темное время суток',    \n",
        "     'I05_39', # Предпочтительное время работы',\n",
        "     \"H00_02\", # код субъекта РФ\n",
        "    ] "
      ]
    },
    {
      "cell_type": "code",
      "execution_count": 9,
      "metadata": {
        "id": "gxElZuV83gDj"
      },
      "outputs": [],
      "source": [
        "def descriptional_statistics(df, meta, selection):\n",
        "    # Создадим новую таблицу (pandas DataFrame), но только с теми колонками,\n",
        "    # которые используются в расчётах.\n",
        "    # Так используется меньше памяти, удобнее визуализировать. Но можно пользоваться и исходной таблицей.\n",
        "    selected = df[selection]\n",
        "    # Используем генератор списков, чтобы переименовать служебные заголвки в читаемые.\n",
        "    # для этого мы хотим \"пройтись\" по всем меткам в списке selection и получить новый список вместо selection.\n",
        "    # Подробнее о генераторах списков: https://pythontutor.ru/lessons/lists/#section_3\n",
        "    selection_names = [meta.column_names_to_labels[label] for label in selection]\n",
        "    # Заменим исходные наименования колонок на наименования из получившегося списка selection_names, \n",
        "    # теперь у нас наименования колонок будет как в столбце \"метки\" файла sav.\n",
        "    selected.columns = selection_names\n",
        "    # 98 - код Республики Саха (Якутии), согласно ОКВЭДам.\n",
        "    # создаем маску, чтобы получить таблицу с данными только по Якутии.\n",
        "    mask = selected['Код субъекта РФ'] == '98'\n",
        "    # применяем маску - используем только те строчки, где значения маски True\n",
        "    region = selected[mask]\n",
        "    # число наблюдений в таблице получаем через атрибут shape.\n",
        "    # так как в shape находится объект типа кортеж (tuple)- структура данных, похожая на список,\n",
        "    # но неизменяемая (чтобы добавить или удалить элемент, придется создавать новый объект типа кортеж в памяти).\n",
        "    # из кортежа,  так же, как из списка, можно получить по порядковому индексу его элемент\n",
        "    # в данном случае у нас shape[0] - количество строк, shape[1] - количество столбцов.\n",
        "    # pandas DataFrame - двумерная таблица, ее размерность описывается количеством строчек и столбцов.\n",
        "    # одномерная \"таблица\" pandas, по сути, одна колонка, размерность которой описывается только количеством строчек,\n",
        "    # называется Series\n",
        "\n",
        "    print(f\"Количество наблюдений по выбранным переменным: {region.shape[0]}\")\n",
        "    # apply - метод pandas DataFrame, который позволяет применить функцию ко всему Series или DataFrame,\n",
        "    # не прописывая цикл явно.\n",
        "\n",
        "    # Применим функцию, который переведет служебные значения в читаемые ко всему столбцу Размер населенного пункта.\n",
        "\n",
        "    # в python есть два способа объявить функцию - через ключевое слово def или lambda.\n",
        "    # def удобно использовать, когда у функции много аргументов и/или в ней выполняется много действий\n",
        "    # lambda удобно использовать, когда функция принимает 1-2 аргумента и выполняемые действия можно прописать в \n",
        "    # одну строчку\n",
        "\n",
        "    # После ключевого слова lambda идет аргумент функции (x), двоеточие и после него прописываем действие \n",
        "    # над аргументом х\n",
        "\n",
        "    # В данном случае необходимо из словаря variable_to_label получить значение ключа,\n",
        "    # а затем по этому значению получить другое значение \n",
        "    # из словаря value_labels\n",
        "    # т.е., value_labels это вложенный словарь - словарь в словаре.\n",
        "    for name, variable in zip(selection_names[:-1], selection[:-1]):\n",
        "        print(name)\n",
        "        if (variable != 'DEN_NA_DUSHU') and not ('(общая площадь)' in name): # доходы и вопросы с общей площадью не по номинальной шкале, так что их преобразовывать не надо\n",
        "            \n",
        "\n",
        "            possible_answers = meta.value_labels[meta.variable_to_label[variable]]\n",
        "            possible_answers_str = {}\n",
        "            for k, v in possible_answers.items():\n",
        "                possible_answers_str[str(k)] = v # бывает так, что в этом словаре часть ключей имеет тип данных float, а часть строка\n",
        "            \n",
        "            print(f\"Возможные ответы: {possible_answers_str}\")\n",
        "            try: \n",
        "                variable_values = region[name].apply(lambda x: possible_answers_str[str(x)] if not np.isnan(x) else x)\n",
        "            except KeyError:\n",
        "                print(\"Варианты ответа отсутствуют в словаре возможных ответов. Посчитать осмысленные описательные статистики нельзя\")\n",
        "                print(f\"Варианты ответа: {region[name].unique()}\")\n",
        "                print(\"--------------------------\")\n",
        "                continue\n",
        "            print(variable_values.describe())\n",
        "        else:\n",
        "            print(region[name].describe())\n",
        "        print(\"--------------------------\")"
      ]
    },
    {
      "cell_type": "markdown",
      "metadata": {
        "id": "E_2u6gJx3gDo"
      },
      "source": [
        "Что считает метод describe для нечисловых данных:\n",
        "\n",
        "unique - количество уникальных значений\n",
        "\n",
        "top - наиболее часто встречающееся значение\n",
        "\n",
        "freq - частота top-а (мода)\n",
        "\n",
        "в случае нескольких одинаковых top-ов, какой вывести, выбирается случайно"
      ]
    },
    {
      "cell_type": "code",
      "source": [
        "print(\"2016 ГОД\")\n",
        "descriptional_statistics(df_2016, meta_2016, selection)"
      ],
      "metadata": {
        "colab": {
          "base_uri": "https://localhost:8080/"
        },
        "id": "4J55TtO_gkN4",
        "outputId": "9d57bda1-5e11-4e09-c8b7-bce6fa4adc4b"
      },
      "execution_count": 11,
      "outputs": [
        {
          "output_type": "stream",
          "name": "stdout",
          "text": [
            "2016 ГОД\n",
            "Количество наблюдений по выбранным переменным: 1189\n",
            "Безопасность на улице в темное время суток\n",
            "Возможные ответы: {'-7.0': 'ЗАТРУДНЯЮСЬ ОТВЕТИТЬ', '1.0': 'Совершенно безопасно', '2.0': 'Достаточно безопасно', '3.0': 'Небезопасно'}\n",
            "count                      905\n",
            "unique                       4\n",
            "top       Достаточно безопасно\n",
            "freq                       439\n",
            "Name: Безопасность на улице в темное время суток, dtype: object\n",
            "--------------------------\n",
            "Предпочтительное время работы\n",
            "Возможные ответы: {'-7.0': 'ЗАТРУДНЯЮСЬ ОТВЕТИТЬ', '1.0': 'Полное время работы (по крайней мере, 35 часов в неделю)', '2.0': 'Неполное время работы', '3.0': 'Полное или неполное время работы в определенные месяцы года'}\n",
            "count                                                   144\n",
            "unique                                                    3\n",
            "top       Полное время работы (по крайней мере, 35 часов...\n",
            "freq                                                    106\n",
            "Name: Предпочтительное время работы, dtype: object\n",
            "--------------------------\n"
          ]
        }
      ]
    },
    {
      "cell_type": "code",
      "source": [
        "print(\"2018 ГОД\")\n",
        "descriptional_statistics(df_2018, meta_2018, selection)"
      ],
      "metadata": {
        "colab": {
          "base_uri": "https://localhost:8080/"
        },
        "id": "irkU3xlOgYlb",
        "outputId": "d5a1ed36-152a-4701-9a2e-b8c36d50e55c"
      },
      "execution_count": 12,
      "outputs": [
        {
          "output_type": "stream",
          "name": "stdout",
          "text": [
            "2018 ГОД\n",
            "Количество наблюдений по выбранным переменным: 1158\n",
            "Оценка безопасности района проживания респондента в темное время суток\n",
            "Возможные ответы: {'-7.0': 'Затруднились ответить', '1.0': 'Совершенно безопасно', '2.0': 'Достаточно безопасно', '3.0': 'Небезопасно'}\n",
            "count                      863\n",
            "unique                       4\n",
            "top       Достаточно безопасно\n",
            "freq                       543\n",
            "Name: Оценка безопасности района проживания респондента в темное время суток, dtype: object\n",
            "--------------------------\n",
            "Предпочтительное время работы\n",
            "Возможные ответы: {'-7.0': 'Затруднились ответить', '1.0': 'Полное время работы (по крайней мере, 35 часов в неделю)', '2.0': 'Неполное время работы', '3.0': 'Полное или неполное время работы в определенные месяцы года'}\n",
            "count                                                   132\n",
            "unique                                                    3\n",
            "top       Полное время работы (по крайней мере, 35 часов...\n",
            "freq                                                    104\n",
            "Name: Предпочтительное время работы, dtype: object\n",
            "--------------------------\n"
          ]
        }
      ]
    },
    {
      "cell_type": "code",
      "source": [
        "print(\"2020 ГОД\")\n",
        "descriptional_statistics(df_2020, meta_2020, selection)\n"
      ],
      "metadata": {
        "colab": {
          "base_uri": "https://localhost:8080/"
        },
        "id": "ZLznjvl0f3Eb",
        "outputId": "1fc83891-82d6-4032-a632-014159861f57"
      },
      "execution_count": 13,
      "outputs": [
        {
          "output_type": "stream",
          "name": "stdout",
          "text": [
            "2020 ГОД\n",
            "Количество наблюдений по выбранным переменным: 1178\n",
            "Оценка безопасности района проживания респондента в темное время суток\n",
            "Возможные ответы: {'-7.0': 'Затруднились ответить', '1.0': 'Совершенно безопасно', '2.0': 'Достаточно безопасно', '3.0': 'Небезопасно'}\n",
            "count                      886\n",
            "unique                       4\n",
            "top       Достаточно безопасно\n",
            "freq                       482\n",
            "Name: Оценка безопасности района проживания респондента в темное время суток, dtype: object\n",
            "--------------------------\n",
            "Предпочтительное время работы\n",
            "Возможные ответы: {'-7.0': 'Затруднились ответить', '1.0': 'Полное время работы (по крайней мере, 35 часов в неделю)', '2.0': 'Неполное время работы', '3.0': 'Полное или неполное время работы в определенные месяцы года'}\n",
            "count                                                   116\n",
            "unique                                                    3\n",
            "top       Полное время работы (по крайней мере, 35 часов...\n",
            "freq                                                     82\n",
            "Name: Предпочтительное время работы, dtype: object\n",
            "--------------------------\n"
          ]
        }
      ]
    }
  ],
  "metadata": {
    "colab": {
      "provenance": []
    },
    "kernelspec": {
      "display_name": "Python 3",
      "language": "python",
      "name": "python3"
    },
    "language_info": {
      "codemirror_mode": {
        "name": "ipython",
        "version": 3
      },
      "file_extension": ".py",
      "mimetype": "text/x-python",
      "name": "python",
      "nbconvert_exporter": "python",
      "pygments_lexer": "ipython3",
      "version": "3.7.7"
    }
  },
  "nbformat": 4,
  "nbformat_minor": 0
}