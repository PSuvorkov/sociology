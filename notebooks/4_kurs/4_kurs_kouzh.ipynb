{
  "cells": [
    {
      "cell_type": "markdown",
      "metadata": {
        "id": "BjGEif-YAG1K"
      },
      "source": [
        "Установить библиотеки: pandas - для работы с таблицами, pyreadstat - для чтения файлов из статистических программ (типа SPSS), scikit-learn для машинного обучения. Обязательно указать версию библиотеки через ==, потому что код, работающий в одной версии, может не работать в другой.  \n",
        "Документации на них:\n",
        "\n",
        "https://pandas.pydata.org\n",
        "\n",
        "https://ofajardo.github.io/pyreadstat_documentation/_build/html/index.html\n",
        "\n",
        "https://scikit-learn.org/stable/index.html\n"
      ]
    },
    {
      "cell_type": "code",
      "execution_count": 1,
      "metadata": {
        "colab": {
          "base_uri": "https://localhost:8080/"
        },
        "id": "B_HJpLcP3hnG",
        "outputId": "4c9bc97b-31a9-4375-e668-a1132095d214"
      },
      "outputs": [
        {
          "output_type": "stream",
          "name": "stdout",
          "text": [
            "Looking in indexes: https://pypi.org/simple, https://us-python.pkg.dev/colab-wheels/public/simple/\n",
            "Requirement already satisfied: pandas==1.4.2 in /usr/local/lib/python3.9/dist-packages (1.4.2)\n",
            "Requirement already satisfied: pyreadstat==1.2.0 in /usr/local/lib/python3.9/dist-packages (1.2.0)\n",
            "Requirement already satisfied: scikit-learn==1.2.2 in /usr/local/lib/python3.9/dist-packages (1.2.2)\n",
            "Requirement already satisfied: python-dateutil>=2.8.1 in /usr/local/lib/python3.9/dist-packages (from pandas==1.4.2) (2.8.2)\n",
            "Requirement already satisfied: pytz>=2020.1 in /usr/local/lib/python3.9/dist-packages (from pandas==1.4.2) (2022.7.1)\n",
            "Requirement already satisfied: numpy>=1.18.5 in /usr/local/lib/python3.9/dist-packages (from pandas==1.4.2) (1.22.4)\n",
            "Requirement already satisfied: joblib>=1.1.1 in /usr/local/lib/python3.9/dist-packages (from scikit-learn==1.2.2) (1.2.0)\n",
            "Requirement already satisfied: scipy>=1.3.2 in /usr/local/lib/python3.9/dist-packages (from scikit-learn==1.2.2) (1.10.1)\n",
            "Requirement already satisfied: threadpoolctl>=2.0.0 in /usr/local/lib/python3.9/dist-packages (from scikit-learn==1.2.2) (3.1.0)\n",
            "Requirement already satisfied: six>=1.5 in /usr/local/lib/python3.9/dist-packages (from python-dateutil>=2.8.1->pandas==1.4.2) (1.16.0)\n"
          ]
        }
      ],
      "source": [
        "!pip install pandas==1.4.2 pyreadstat==1.2.0 scikit-learn==1.2.2"
      ]
    },
    {
      "cell_type": "markdown",
      "metadata": {
        "id": "nfGf1KpqdWJO"
      },
      "source": [
        "Подключить Google Disk, надо будет дать разрешение этой jupyter-notebook тетрадке на чтение/запись с него. Файлы *.sav должны быть заранее загружены на Google Disk в папку коуж. Если они загружены по другому пути, надо будет поменять переменную fpath (cм. ниже)"
      ]
    },
    {
      "cell_type": "code",
      "execution_count": 2,
      "metadata": {
        "colab": {
          "base_uri": "https://localhost:8080/"
        },
        "id": "mf_hJ0IKdLKW",
        "outputId": "15267b54-bb2a-4aad-a5d2-961f57f35dba"
      },
      "outputs": [
        {
          "output_type": "stream",
          "name": "stdout",
          "text": [
            "Drive already mounted at /content/drive; to attempt to forcibly remount, call drive.mount(\"/content/drive\", force_remount=True).\n"
          ]
        }
      ],
      "source": [
        "from google.colab import drive\n",
        "drive.mount('/content/drive')"
      ]
    },
    {
      "cell_type": "markdown",
      "source": [
        "Предупреждение: код тестировался только на Псковской области. В случае любых странностей при выборе другого региона писать в чат своей группы в телеграме (в чате потока меня нет)"
      ],
      "metadata": {
        "id": "xo_yE91i6VSc"
      }
    },
    {
      "cell_type": "code",
      "execution_count": 3,
      "metadata": {
        "id": "GGiX_7WI3gDd"
      },
      "outputs": [],
      "source": [
        "# импортируем библиотеку pyreadstat, \n",
        "# которая ориентирована на работу с форматами статистических (в т.ч., платных) программ.\n",
        "import pyreadstat\n",
        "import numpy as np"
      ]
    },
    {
      "cell_type": "code",
      "source": [
        "from sklearn.linear_model import LogisticRegression # классификатор логистическая регрессия\n",
        "from sklearn.tree import DecisionTreeClassifier # классификатор дерево решений\n",
        "from sklearn.metrics import classification_report # считает метрики точность, полнота, f-мера\n",
        "from sklearn.model_selection import train_test_split # разбиение на тестовую и обучающую выборки"
      ],
      "metadata": {
        "id": "HwLnz9Xz-xk9"
      },
      "execution_count": 4,
      "outputs": []
    },
    {
      "cell_type": "code",
      "execution_count": 5,
      "metadata": {
        "id": "stmkYe6t3gDj"
      },
      "outputs": [],
      "source": [
        "# Источник данных: https://gks.ru/ .\n",
        "\n",
        "fpath_2020 = 'drive/MyDrive/коуж/IND_OSN_2020.sav'\n",
        "df_2020, meta_2020 = pyreadstat.read_file_multiprocessing(pyreadstat.read_sav, fpath_2020, num_processes=16, encoding='cp1251') \n"
      ]
    },
    {
      "cell_type": "code",
      "source": [
        "selection = [\n",
        "    'I08_04', # Частота выходов в сеть Интернет',\n",
        "    \"R_1_1\", # размер населённого пункта\n",
        "    \"R_1\", # место проживания\n",
        "    \"H00_04\", # тип населённого пункта\n",
        "    \"H00_02\", # код субъекта РФ\n",
        "    'I05_141', #'Использование компьютерной техники на основной работе, хотя бы, один раз в неделю',\n",
        "    'H01_02', #'Число исполнившихся лет',\n",
        "    'I05_15', #'Потребность в получении знаний в области информационных технологий',\n",
        "    'I05_151', #'Позволяет ли характер работы выполнять ее дистанционно, через Интернет',\n",
        "    'I06_07_05', #'Отсутствие технических устройств для выхода в Интернет',\n",
        "    'I06_07_06', # 'Отсутствие мобильной связи и сети «Интернет»,  в т.ч. перебои в их работе',\n",
        "    'PENS_UST', # Лица, получающие пенсию, назначенную в год достижения общеустановленного пенсионного возраста\n",
        "    'DEN_NA_DUSHU', # Денежный доход в среднем на члена ДХ, в месяц, рублей\n",
        "    ] "
      ],
      "metadata": {
        "id": "5Kn7VzVUQpmx"
      },
      "execution_count": 6,
      "outputs": []
    },
    {
      "cell_type": "code",
      "execution_count": 7,
      "metadata": {
        "id": "gxElZuV83gDj"
      },
      "outputs": [],
      "source": [
        "def select_region(df, meta, selection):\n",
        "    # Создадим новую таблицу (pandas DataFrame), но только с теми колонками,\n",
        "    # которые используются в расчётах.\n",
        "    # Так используется меньше памяти, удобнее визуализировать. Но можно пользоваться и исходной таблицей.\n",
        "    selected = df[selection]\n",
        "    # Используем генератор списков, чтобы переименовать служебные заголовки в читаемые.\n",
        "    # для этого мы хотим \"пройтись\" по всем меткам в списке selection и получить новый список вместо selection.\n",
        "    # Подробнее о генераторах списков: https://pythontutor.ru/lessons/lists/#section_3\n",
        "    selection_names = [meta.column_names_to_labels[label].strip() for label in selection]\n",
        "    # Заменим исходные наименования колонок на наименования из получившегося списка selection_names, \n",
        "    # теперь у нас наименования колонок будет как в столбце \"метки\" файла sav.\n",
        "    selected.columns = selection_names\n",
        "    # 58 - код Псковской области, согласно ОКАТО (без 11).\n",
        "    # создаем маску, чтобы получить таблицу с данными только по Псковской области.\n",
        "    mask = selected['Код субъекта РФ'] == '58'\n",
        "    # применяем маску - используем только те строчки, где значения маски True\n",
        "    region = selected[mask]\n",
        "    # число наблюдений в таблице получаем через атрибут shape.\n",
        "    # так как в shape находится объект типа кортеж (tuple)- структура данных, похожая на список,\n",
        "    # но неизменяемая (чтобы добавить или удалить элемент, придется создавать новый объект типа кортеж в памяти).\n",
        "    # из кортежа,  так же, как из списка, можно получить по порядковому индексу его элемент\n",
        "    # в данном случае у нас shape[0] - количество строк, shape[1] - количество столбцов.\n",
        "    # pandas DataFrame - двумерная таблица, ее размерность описывается количеством строчек и столбцов.\n",
        "    # одномерная \"таблица\" pandas, по сути, одна колонка, размерность которой описывается только количеством строчек,\n",
        "    # называется Series\n",
        "    region = region.fillna(value=-1) # вопросы с ответами по номинальной шкале бывают устроены так, что 1 значит да, пропущенное значение значит нет\n",
        "    # а бывает, что 1 значит да, 2 значит нет.\n",
        "    print(f\"Количество наблюдений по данному региону: {region.shape[0]}\")\n",
        "    return region"
      ]
    },
    {
      "cell_type": "code",
      "source": [
        "print(\"2020 ГОД\")\n",
        "region = select_region(df_2020, meta_2020, selection)\n",
        "region.head()"
      ],
      "metadata": {
        "colab": {
          "base_uri": "https://localhost:8080/",
          "height": 372
        },
        "id": "ZLznjvl0f3Eb",
        "outputId": "3cc02bac-8061-4e86-f62a-cfbdf03923d3"
      },
      "execution_count": 8,
      "outputs": [
        {
          "output_type": "stream",
          "name": "stdout",
          "text": [
            "2020 ГОД\n",
            "Количество наблюдений по данному региону: 711\n"
          ]
        },
        {
          "output_type": "execute_result",
          "data": {
            "text/plain": [
              "       Частота выходов в сеть Интернет  Размер населенного пункта  \\\n",
              "64772                              4.0                        3.0   \n",
              "64773                              4.0                        3.0   \n",
              "64774                              2.0                        3.0   \n",
              "64775                              1.0                        3.0   \n",
              "64776                              1.0                        3.0   \n",
              "\n",
              "       Место проживания  Тип населенного пункта Код субъекта РФ  \\\n",
              "64772               1.0                     1.0              58   \n",
              "64773               1.0                     1.0              58   \n",
              "64774               1.0                     1.0              58   \n",
              "64775               1.0                     1.0              58   \n",
              "64776               1.0                     1.0              58   \n",
              "\n",
              "       Использование компьютерной техники на основной работе, хотя бы, один раз в неделю  \\\n",
              "64772                                               -1.0                                   \n",
              "64773                                               -1.0                                   \n",
              "64774                                                1.0                                   \n",
              "64775                                                1.0                                   \n",
              "64776                                                1.0                                   \n",
              "\n",
              "       Число исполнившихся лет  \\\n",
              "64772                     85.0   \n",
              "64773                     68.0   \n",
              "64774                     58.0   \n",
              "64775                     54.0   \n",
              "64776                     46.0   \n",
              "\n",
              "       Потребность в получении знаний в области информационных технологий  \\\n",
              "64772                                               -1.0                    \n",
              "64773                                               -1.0                    \n",
              "64774                                                1.0                    \n",
              "64775                                                2.0                    \n",
              "64776                                                1.0                    \n",
              "\n",
              "       Позволяет ли характер работы выполнять ее дистанционно, через Интернет  \\\n",
              "64772                                               -1.0                        \n",
              "64773                                               -1.0                        \n",
              "64774                                                3.0                        \n",
              "64775                                                3.0                        \n",
              "64776                                                2.0                        \n",
              "\n",
              "       Отсутствие технических устройств для выхода в Интернет  \\\n",
              "64772                                               -1.0        \n",
              "64773                                               -1.0        \n",
              "64774                                               -1.0        \n",
              "64775                                               -1.0        \n",
              "64776                                               -1.0        \n",
              "\n",
              "       Отсутствие мобильной связи и сети «Интернет»,  в т.ч. перебои в их работе  \\\n",
              "64772                                               -1.0                           \n",
              "64773                                               -1.0                           \n",
              "64774                                               -1.0                           \n",
              "64775                                               -1.0                           \n",
              "64776                                               -1.0                           \n",
              "\n",
              "       Лица, получающие пенсию, назначенную в год достижения общеустановленного пенсионного возраста  \\\n",
              "64772                                                1.0                                               \n",
              "64773                                                1.0                                               \n",
              "64774                                                1.0                                               \n",
              "64775                                               -1.0                                               \n",
              "64776                                               -1.0                                               \n",
              "\n",
              "       Денежный доход в среднем на члена ДХ, в месяц, рублей  \n",
              "64772                                            17500.0      \n",
              "64773                                            17500.0      \n",
              "64774                                            35000.0      \n",
              "64775                                            22500.0      \n",
              "64776                                            22500.0      "
            ],
            "text/html": [
              "\n",
              "  <div id=\"df-9b061f3b-3c81-4085-be0a-76f588b96c65\">\n",
              "    <div class=\"colab-df-container\">\n",
              "      <div>\n",
              "<style scoped>\n",
              "    .dataframe tbody tr th:only-of-type {\n",
              "        vertical-align: middle;\n",
              "    }\n",
              "\n",
              "    .dataframe tbody tr th {\n",
              "        vertical-align: top;\n",
              "    }\n",
              "\n",
              "    .dataframe thead th {\n",
              "        text-align: right;\n",
              "    }\n",
              "</style>\n",
              "<table border=\"1\" class=\"dataframe\">\n",
              "  <thead>\n",
              "    <tr style=\"text-align: right;\">\n",
              "      <th></th>\n",
              "      <th>Частота выходов в сеть Интернет</th>\n",
              "      <th>Размер населенного пункта</th>\n",
              "      <th>Место проживания</th>\n",
              "      <th>Тип населенного пункта</th>\n",
              "      <th>Код субъекта РФ</th>\n",
              "      <th>Использование компьютерной техники на основной работе, хотя бы, один раз в неделю</th>\n",
              "      <th>Число исполнившихся лет</th>\n",
              "      <th>Потребность в получении знаний в области информационных технологий</th>\n",
              "      <th>Позволяет ли характер работы выполнять ее дистанционно, через Интернет</th>\n",
              "      <th>Отсутствие технических устройств для выхода в Интернет</th>\n",
              "      <th>Отсутствие мобильной связи и сети «Интернет»,  в т.ч. перебои в их работе</th>\n",
              "      <th>Лица, получающие пенсию, назначенную в год достижения общеустановленного пенсионного возраста</th>\n",
              "      <th>Денежный доход в среднем на члена ДХ, в месяц, рублей</th>\n",
              "    </tr>\n",
              "  </thead>\n",
              "  <tbody>\n",
              "    <tr>\n",
              "      <th>64772</th>\n",
              "      <td>4.0</td>\n",
              "      <td>3.0</td>\n",
              "      <td>1.0</td>\n",
              "      <td>1.0</td>\n",
              "      <td>58</td>\n",
              "      <td>-1.0</td>\n",
              "      <td>85.0</td>\n",
              "      <td>-1.0</td>\n",
              "      <td>-1.0</td>\n",
              "      <td>-1.0</td>\n",
              "      <td>-1.0</td>\n",
              "      <td>1.0</td>\n",
              "      <td>17500.0</td>\n",
              "    </tr>\n",
              "    <tr>\n",
              "      <th>64773</th>\n",
              "      <td>4.0</td>\n",
              "      <td>3.0</td>\n",
              "      <td>1.0</td>\n",
              "      <td>1.0</td>\n",
              "      <td>58</td>\n",
              "      <td>-1.0</td>\n",
              "      <td>68.0</td>\n",
              "      <td>-1.0</td>\n",
              "      <td>-1.0</td>\n",
              "      <td>-1.0</td>\n",
              "      <td>-1.0</td>\n",
              "      <td>1.0</td>\n",
              "      <td>17500.0</td>\n",
              "    </tr>\n",
              "    <tr>\n",
              "      <th>64774</th>\n",
              "      <td>2.0</td>\n",
              "      <td>3.0</td>\n",
              "      <td>1.0</td>\n",
              "      <td>1.0</td>\n",
              "      <td>58</td>\n",
              "      <td>1.0</td>\n",
              "      <td>58.0</td>\n",
              "      <td>1.0</td>\n",
              "      <td>3.0</td>\n",
              "      <td>-1.0</td>\n",
              "      <td>-1.0</td>\n",
              "      <td>1.0</td>\n",
              "      <td>35000.0</td>\n",
              "    </tr>\n",
              "    <tr>\n",
              "      <th>64775</th>\n",
              "      <td>1.0</td>\n",
              "      <td>3.0</td>\n",
              "      <td>1.0</td>\n",
              "      <td>1.0</td>\n",
              "      <td>58</td>\n",
              "      <td>1.0</td>\n",
              "      <td>54.0</td>\n",
              "      <td>2.0</td>\n",
              "      <td>3.0</td>\n",
              "      <td>-1.0</td>\n",
              "      <td>-1.0</td>\n",
              "      <td>-1.0</td>\n",
              "      <td>22500.0</td>\n",
              "    </tr>\n",
              "    <tr>\n",
              "      <th>64776</th>\n",
              "      <td>1.0</td>\n",
              "      <td>3.0</td>\n",
              "      <td>1.0</td>\n",
              "      <td>1.0</td>\n",
              "      <td>58</td>\n",
              "      <td>1.0</td>\n",
              "      <td>46.0</td>\n",
              "      <td>1.0</td>\n",
              "      <td>2.0</td>\n",
              "      <td>-1.0</td>\n",
              "      <td>-1.0</td>\n",
              "      <td>-1.0</td>\n",
              "      <td>22500.0</td>\n",
              "    </tr>\n",
              "  </tbody>\n",
              "</table>\n",
              "</div>\n",
              "      <button class=\"colab-df-convert\" onclick=\"convertToInteractive('df-9b061f3b-3c81-4085-be0a-76f588b96c65')\"\n",
              "              title=\"Convert this dataframe to an interactive table.\"\n",
              "              style=\"display:none;\">\n",
              "        \n",
              "  <svg xmlns=\"http://www.w3.org/2000/svg\" height=\"24px\"viewBox=\"0 0 24 24\"\n",
              "       width=\"24px\">\n",
              "    <path d=\"M0 0h24v24H0V0z\" fill=\"none\"/>\n",
              "    <path d=\"M18.56 5.44l.94 2.06.94-2.06 2.06-.94-2.06-.94-.94-2.06-.94 2.06-2.06.94zm-11 1L8.5 8.5l.94-2.06 2.06-.94-2.06-.94L8.5 2.5l-.94 2.06-2.06.94zm10 10l.94 2.06.94-2.06 2.06-.94-2.06-.94-.94-2.06-.94 2.06-2.06.94z\"/><path d=\"M17.41 7.96l-1.37-1.37c-.4-.4-.92-.59-1.43-.59-.52 0-1.04.2-1.43.59L10.3 9.45l-7.72 7.72c-.78.78-.78 2.05 0 2.83L4 21.41c.39.39.9.59 1.41.59.51 0 1.02-.2 1.41-.59l7.78-7.78 2.81-2.81c.8-.78.8-2.07 0-2.86zM5.41 20L4 18.59l7.72-7.72 1.47 1.35L5.41 20z\"/>\n",
              "  </svg>\n",
              "      </button>\n",
              "      \n",
              "  <style>\n",
              "    .colab-df-container {\n",
              "      display:flex;\n",
              "      flex-wrap:wrap;\n",
              "      gap: 12px;\n",
              "    }\n",
              "\n",
              "    .colab-df-convert {\n",
              "      background-color: #E8F0FE;\n",
              "      border: none;\n",
              "      border-radius: 50%;\n",
              "      cursor: pointer;\n",
              "      display: none;\n",
              "      fill: #1967D2;\n",
              "      height: 32px;\n",
              "      padding: 0 0 0 0;\n",
              "      width: 32px;\n",
              "    }\n",
              "\n",
              "    .colab-df-convert:hover {\n",
              "      background-color: #E2EBFA;\n",
              "      box-shadow: 0px 1px 2px rgba(60, 64, 67, 0.3), 0px 1px 3px 1px rgba(60, 64, 67, 0.15);\n",
              "      fill: #174EA6;\n",
              "    }\n",
              "\n",
              "    [theme=dark] .colab-df-convert {\n",
              "      background-color: #3B4455;\n",
              "      fill: #D2E3FC;\n",
              "    }\n",
              "\n",
              "    [theme=dark] .colab-df-convert:hover {\n",
              "      background-color: #434B5C;\n",
              "      box-shadow: 0px 1px 3px 1px rgba(0, 0, 0, 0.15);\n",
              "      filter: drop-shadow(0px 1px 2px rgba(0, 0, 0, 0.3));\n",
              "      fill: #FFFFFF;\n",
              "    }\n",
              "  </style>\n",
              "\n",
              "      <script>\n",
              "        const buttonEl =\n",
              "          document.querySelector('#df-9b061f3b-3c81-4085-be0a-76f588b96c65 button.colab-df-convert');\n",
              "        buttonEl.style.display =\n",
              "          google.colab.kernel.accessAllowed ? 'block' : 'none';\n",
              "\n",
              "        async function convertToInteractive(key) {\n",
              "          const element = document.querySelector('#df-9b061f3b-3c81-4085-be0a-76f588b96c65');\n",
              "          const dataTable =\n",
              "            await google.colab.kernel.invokeFunction('convertToInteractive',\n",
              "                                                     [key], {});\n",
              "          if (!dataTable) return;\n",
              "\n",
              "          const docLinkHtml = 'Like what you see? Visit the ' +\n",
              "            '<a target=\"_blank\" href=https://colab.research.google.com/notebooks/data_table.ipynb>data table notebook</a>'\n",
              "            + ' to learn more about interactive tables.';\n",
              "          element.innerHTML = '';\n",
              "          dataTable['output_type'] = 'display_data';\n",
              "          await google.colab.output.renderOutput(dataTable, element);\n",
              "          const docLink = document.createElement('div');\n",
              "          docLink.innerHTML = docLinkHtml;\n",
              "          element.appendChild(docLink);\n",
              "        }\n",
              "      </script>\n",
              "    </div>\n",
              "  </div>\n",
              "  "
            ]
          },
          "metadata": {},
          "execution_count": 8
        }
      ]
    },
    {
      "cell_type": "markdown",
      "source": [
        "Вопрос 1: можно ли предсказать возрастную группу человека по частоте выхода в интернет?"
      ],
      "metadata": {
        "id": "Ox_8JIPHpdgq"
      }
    },
    {
      "cell_type": "code",
      "source": [
        "def age_2_group(x):\n",
        "    \"\"\"Функция, чтобы преобразовать возраста в возрастные группы \"дети\", \"работающие\" и \"пенсионеры\"\"\"\"\"\n",
        "    if x < 18:\n",
        "        return 0\n",
        "    elif (x>=18 and x < 65):\n",
        "        return 1\n",
        "    else:\n",
        "        return 2"
      ],
      "metadata": {
        "id": "jyzrQKasp_l9"
      },
      "execution_count": 9,
      "outputs": []
    },
    {
      "cell_type": "markdown",
      "source": [
        "Какие метрики используются https://en.wikipedia.org/wiki/F-score"
      ],
      "metadata": {
        "id": "lDrGsaacq1xu"
      }
    },
    {
      "cell_type": "code",
      "source": [
        "# посмотреть, какие есть значения для переменной Частота выходов в сеть Интернет\n",
        "meta_2020.value_labels[meta_2020.variable_to_label['I08_04']]"
      ],
      "metadata": {
        "colab": {
          "base_uri": "https://localhost:8080/"
        },
        "id": "I1PwzJvo86dZ",
        "outputId": "da093429-9468-441d-b039-c5518a8fc8c9"
      },
      "execution_count": 10,
      "outputs": [
        {
          "output_type": "execute_result",
          "data": {
            "text/plain": [
              "{1.0: 'Каждый день или почти каждый день',\n",
              " 2.0: 'Один или несколько раз в неделю',\n",
              " 3.0: 'От случаю к случаю',\n",
              " 4.0: 'Не пользуются'}"
            ]
          },
          "metadata": {},
          "execution_count": 10
        }
      ]
    },
    {
      "cell_type": "code",
      "source": [
        "region = select_region(df_2020, meta_2020, selection)\n",
        "region['age_group'] =  region['Число исполнившихся лет'].apply(age_2_group)\n",
        "X = region[['Частота выходов в сеть Интернет']]\n",
        "y = region['age_group']\n",
        "X_train, X_test, y_train, y_test = train_test_split(X, y, random_state=4)\n",
        "logreg_classifier = LogisticRegression(multi_class='ovr') # создать объект класса Логистическая Регрессия\n",
        "# multi_class ovr значит что в случае когда классов больше 2, для каждого решается задача классификации его от остальных (one versus rest)\n",
        "logreg_classifier.fit(X_train, y_train) # обучить\n",
        "y_pred = logreg_classifier.predict(X_test) # предсказать\n",
        "print(classification_report(y_test, y_pred)) # распечатать метрики\n",
        "dt_classifier = DecisionTreeClassifier() # создать объект класса Дерево решений\n",
        "dt_classifier.fit(X_train, y_train)\n",
        "y_pred = dt_classifier.predict(X_test)\n",
        "print(classification_report(y_test, y_pred))"
      ],
      "metadata": {
        "colab": {
          "base_uri": "https://localhost:8080/"
        },
        "id": "uRjmWVhIMV8b",
        "outputId": "481938bf-a2f8-4927-fe2f-42f12d60e9be"
      },
      "execution_count": 11,
      "outputs": [
        {
          "output_type": "stream",
          "name": "stdout",
          "text": [
            "Количество наблюдений по данному региону: 711\n",
            "              precision    recall  f1-score   support\n",
            "\n",
            "           0       1.00      0.88      0.93        32\n",
            "           1       0.84      0.89      0.87       104\n",
            "           2       0.72      0.67      0.69        42\n",
            "\n",
            "    accuracy                           0.84       178\n",
            "   macro avg       0.85      0.81      0.83       178\n",
            "weighted avg       0.84      0.84      0.84       178\n",
            "\n",
            "              precision    recall  f1-score   support\n",
            "\n",
            "           0       1.00      0.88      0.93        32\n",
            "           1       0.84      0.89      0.87       104\n",
            "           2       0.72      0.67      0.69        42\n",
            "\n",
            "    accuracy                           0.84       178\n",
            "   macro avg       0.85      0.81      0.83       178\n",
            "weighted avg       0.84      0.84      0.84       178\n",
            "\n"
          ]
        }
      ]
    },
    {
      "cell_type": "markdown",
      "source": [
        "Интерпретация коэффициентов регрессии: чем больше модуль коэффициента, тем больше этот признак влияет на переменную, которая предсказывается\n",
        "\n",
        "---\n",
        "\n"
      ],
      "metadata": {
        "id": "Taz5k5Oe_gRE"
      }
    },
    {
      "cell_type": "code",
      "source": [
        "# коэффициенты признака частота выхода в интернет для каждого класса, порядок в атрибуте coef_ такой же, как в classes_\n",
        "print(logreg_classifier.coef_)\n",
        "print(logreg_classifier.classes_)"
      ],
      "metadata": {
        "colab": {
          "base_uri": "https://localhost:8080/"
        },
        "id": "whZzJSdr8qhf",
        "outputId": "e7c1cef2-d13d-4276-848c-3698a9140a37"
      },
      "execution_count": 12,
      "outputs": [
        {
          "output_type": "stream",
          "name": "stdout",
          "text": [
            "[[-3.38743922]\n",
            " [-0.02511353]\n",
            " [ 1.13659249]]\n",
            "[0 1 2]\n"
          ]
        }
      ]
    },
    {
      "cell_type": "markdown",
      "source": [
        "На этом примере логистическая регрессия и дерево решений работают с одинаковым качеством. Предположение, почему качество для класса пенсионеров хуже: частота выхода в интернет связана с тем, работает ли человек, а возраст выхода на пенсию бывает разный, необязательно именно 65. Чтобы его проверить, надо было бы группировать не только по возрасту."
      ],
      "metadata": {
        "id": "gJdPBpi9vQm1"
      }
    },
    {
      "cell_type": "markdown",
      "source": [
        "Рассказать все концепты, необходимые для понимания, как работают логистическая регрессия и дерево решений, за одно занятие не получится.\n",
        "Кому интересно, можно посоветовать книгу Борхани Реза, Катсаггелос Аггелос, Уатт Джереми \"Машинное обучение: основы, алгоритмы и практика применения\". (Также можно найти много объяснений в гугле, но неполные и упрощенные объяснения обычно только больше запутывают)."
      ],
      "metadata": {
        "id": "-Ie4QwBzt9Z_"
      }
    },
    {
      "cell_type": "markdown",
      "source": [
        "Вопрос 2: существует ли цифровое неравенство между большими и малыми городами?"
      ],
      "metadata": {
        "id": "FGHNNFDfu21k"
      }
    },
    {
      "cell_type": "code",
      "source": [
        "# посмотреть, какие есть значения для переменной размер населенного пункта\n",
        "meta_2020.value_labels[meta_2020.variable_to_label['R_1_1']]"
      ],
      "metadata": {
        "colab": {
          "base_uri": "https://localhost:8080/"
        },
        "id": "VTr_spJaXEZA",
        "outputId": "3e7e355f-b36c-4ca1-8212-470e706cb1b7"
      },
      "execution_count": 13,
      "outputs": [
        {
          "output_type": "execute_result",
          "data": {
            "text/plain": [
              "{1.0: 'городской,  менее 50,0 тыс.чел',\n",
              " 2.0: 'городской,  50,0 - 99,9 тыс.чел',\n",
              " 3.0: 'городской,  100,0 - 249,9 тыс.чел',\n",
              " 4.0: 'городской,  250,0 - 499,9 тыс.чел',\n",
              " 5.0: 'городской,  500,0 - 999,9 тыс.чел',\n",
              " 6.0: 'городской,  1 млн. и более',\n",
              " 7.0: 'сельский,  200 чел. и менее',\n",
              " 8.0: 'сельский,  201 - 1000 чел.',\n",
              " 9.0: 'сельский,  1001 - 5000 чел.',\n",
              " 10.0: 'сельский,  более 5000 чел.'}"
            ]
          },
          "metadata": {},
          "execution_count": 13
        }
      ]
    },
    {
      "cell_type": "code",
      "source": [
        "def punkt_2_group(x):\n",
        "    \"\"\"Присвоить метки класса большим и малым городам. Для других регионов может быть смысл попробовать группировать иначе\"\"\"\n",
        "    if x in {3}:\n",
        "        return 0\n",
        "    elif x in {8, 9}:\n",
        "        return np.nan\n",
        "    elif x in {1, 2}:\n",
        "        return 1"
      ],
      "metadata": {
        "id": "atnW1ry5wNxI"
      },
      "execution_count": 14,
      "outputs": []
    },
    {
      "cell_type": "code",
      "source": [
        "features = [\n",
        "        'Частота выходов в сеть Интернет',\n",
        "        'Использование компьютерной техники на основной работе, хотя бы, один раз в неделю',\n",
        "        'Позволяет ли характер работы выполнять ее дистанционно, через Интернет',\n",
        "        'Потребность в получении знаний в области информационных технологий',\n",
        "        'Отсутствие технических устройств для выхода в Интернет',\n",
        "        'Отсутствие мобильной связи и сети «Интернет»,  в т.ч. перебои в их работе',\n",
        "        'Денежный доход в среднем на члена ДХ, в месяц, рублей',\n",
        "        ]"
      ],
      "metadata": {
        "id": "XuEN8f66y4FA"
      },
      "execution_count": 15,
      "outputs": []
    },
    {
      "cell_type": "code",
      "source": [
        "region = select_region(df_2020, meta_2020, selection)\n",
        "\n",
        "print(f\"Уникальные значения переменной размер населенного пункта: {region['Размер населенного пункта'].unique()}\")\n",
        "region['punkt_group'] =  region['Размер населенного пункта'].apply(punkt_2_group)\n",
        "region = region.dropna()\n",
        "X = region[features]\n",
        "y = region['punkt_group']\n",
        "X_train, X_test, y_train, y_test = train_test_split(X, y, random_state=4)\n",
        "logreg_classifier = LogisticRegression()\n",
        "logreg_classifier.fit(X_train, y_train)\n",
        "y_pred = logreg_classifier.predict(X_test)\n",
        "print(classification_report(y_test, y_pred))\n",
        "dt_classifier = DecisionTreeClassifier()\n",
        "dt_classifier.fit(X_train, y_train)\n",
        "y_pred = dt_classifier.predict(X_test)\n",
        "print(classification_report(y_test, y_pred))"
      ],
      "metadata": {
        "colab": {
          "base_uri": "https://localhost:8080/"
        },
        "id": "xNPhZtLDfpmf",
        "outputId": "7274fb4c-c022-42de-f34c-82a35de9a089"
      },
      "execution_count": 16,
      "outputs": [
        {
          "output_type": "stream",
          "name": "stdout",
          "text": [
            "Количество наблюдений по данному региону: 711\n",
            "Уникальные значения переменной размер населенного пункта: [3. 1. 2. 9. 8.]\n",
            "              precision    recall  f1-score   support\n",
            "\n",
            "         0.0       0.43      0.07      0.12        45\n",
            "         1.0       0.62      0.95      0.75        74\n",
            "\n",
            "    accuracy                           0.61       119\n",
            "   macro avg       0.53      0.51      0.43       119\n",
            "weighted avg       0.55      0.61      0.51       119\n",
            "\n",
            "              precision    recall  f1-score   support\n",
            "\n",
            "         0.0       0.54      0.58      0.56        45\n",
            "         1.0       0.73      0.70      0.72        74\n",
            "\n",
            "    accuracy                           0.66       119\n",
            "   macro avg       0.64      0.64      0.64       119\n",
            "weighted avg       0.66      0.66      0.66       119\n",
            "\n"
          ]
        }
      ]
    },
    {
      "cell_type": "markdown",
      "source": [
        "Такое соотношение метрик для двух классов говорит о том, что моделями в большинстве случаев просто выбирается наиболее часто встречающийся класс, качество модели низкое. (Для задачи в реальной жизни такие модели использовать было бы нельзя).\n",
        "\n",
        "Можно попробовать \"почистить\" данные, например, удалить из них пенсионеров - возрастную группу, которая плохо предсказывалась по переменной \"Частота выхода в интернет\""
      ],
      "metadata": {
        "id": "wbqeb4jR2F9S"
      }
    },
    {
      "cell_type": "code",
      "source": [
        "def without_pensionists(df_2020, meta_2020, selection, features):\n",
        "    region = select_region(df_2020, meta_2020, selection)\n",
        "    # исключим пенсионеров из рассматриваемых наблюдений\n",
        "    region = region[region['Лица, получающие пенсию, назначенную в год достижения общеустановленного пенсионного возраста']!=1]\n",
        "\n",
        "    print(f\"Уникальные значения переменной размер населенного пункта: {region['Размер населенного пункта'].unique()}\")\n",
        "    region['punkt_group'] =  region['Размер населенного пункта'].apply(punkt_2_group)\n",
        "    region = region.dropna()\n",
        "    X = region[features]\n",
        "    y = region['punkt_group']\n",
        "    X_train, X_test, y_train, y_test = train_test_split(X, y, random_state=4)\n",
        "    logreg_classifier = LogisticRegression()\n",
        "    logreg_classifier.fit(X_train, y_train)\n",
        "    y_pred = logreg_classifier.predict(X_test)\n",
        "    print(classification_report(y_test, y_pred))\n",
        "    dt_classifier = DecisionTreeClassifier()\n",
        "    dt_classifier.fit(X_train, y_train)\n",
        "    y_pred = dt_classifier.predict(X_test)\n",
        "    print(classification_report(y_test, y_pred))"
      ],
      "metadata": {
        "id": "otWjXgolx5RM"
      },
      "execution_count": 17,
      "outputs": []
    },
    {
      "cell_type": "code",
      "source": [
        "without_pensionists(df_2020, meta_2020, selection, features)"
      ],
      "metadata": {
        "colab": {
          "base_uri": "https://localhost:8080/"
        },
        "id": "hDHuRM5Azvc2",
        "outputId": "27c5ae20-95e8-473f-e079-12e6001f5d0f"
      },
      "execution_count": 18,
      "outputs": [
        {
          "output_type": "stream",
          "name": "stdout",
          "text": [
            "Количество наблюдений по данному региону: 711\n",
            "Уникальные значения переменной размер населенного пункта: [3. 1. 2. 9. 8.]\n",
            "              precision    recall  f1-score   support\n",
            "\n",
            "         0.0       0.00      0.00      0.00        28\n",
            "         1.0       0.67      1.00      0.80        56\n",
            "\n",
            "    accuracy                           0.67        84\n",
            "   macro avg       0.33      0.50      0.40        84\n",
            "weighted avg       0.44      0.67      0.53        84\n",
            "\n",
            "              precision    recall  f1-score   support\n",
            "\n",
            "         0.0       0.73      0.79      0.76        28\n",
            "         1.0       0.89      0.86      0.87        56\n",
            "\n",
            "    accuracy                           0.83        84\n",
            "   macro avg       0.81      0.82      0.82        84\n",
            "weighted avg       0.84      0.83      0.83        84\n",
            "\n"
          ]
        },
        {
          "output_type": "stream",
          "name": "stderr",
          "text": [
            "/usr/local/lib/python3.9/dist-packages/sklearn/metrics/_classification.py:1344: UndefinedMetricWarning: Precision and F-score are ill-defined and being set to 0.0 in labels with no predicted samples. Use `zero_division` parameter to control this behavior.\n",
            "  _warn_prf(average, modifier, msg_start, len(result))\n",
            "/usr/local/lib/python3.9/dist-packages/sklearn/metrics/_classification.py:1344: UndefinedMetricWarning: Precision and F-score are ill-defined and being set to 0.0 in labels with no predicted samples. Use `zero_division` parameter to control this behavior.\n",
            "  _warn_prf(average, modifier, msg_start, len(result))\n",
            "/usr/local/lib/python3.9/dist-packages/sklearn/metrics/_classification.py:1344: UndefinedMetricWarning: Precision and F-score are ill-defined and being set to 0.0 in labels with no predicted samples. Use `zero_division` parameter to control this behavior.\n",
            "  _warn_prf(average, modifier, msg_start, len(result))\n"
          ]
        }
      ]
    },
    {
      "cell_type": "markdown",
      "source": [
        "Качество улучшилось, но только для дерева решений, что говорит о том, что множества наших наблюдений, относящиеся к двум классам, не являются линейно разделимыми по заданным признакам.\n",
        "\n",
        "https://en.wikipedia.org/wiki/Linear_separability - определение линейной разделимости\n",
        "\n",
        "Возможно ли, что данный результат отражает неравенство по доходам, а не цифровое? Оставим только одну переменную, касающуюся дохода."
      ],
      "metadata": {
        "id": "WEyUgJjT3IvJ"
      }
    },
    {
      "cell_type": "code",
      "source": [
        "without_pensionists(df_2020, meta_2020, selection, ['Денежный доход в среднем на члена ДХ, в месяц, рублей'])"
      ],
      "metadata": {
        "colab": {
          "base_uri": "https://localhost:8080/"
        },
        "id": "YAtqyTgeic5P",
        "outputId": "5a0e1e15-8f88-4b0d-cfba-7fc922d1c74f"
      },
      "execution_count": 19,
      "outputs": [
        {
          "output_type": "stream",
          "name": "stdout",
          "text": [
            "Количество наблюдений по данному региону: 711\n",
            "Уникальные значения переменной размер населенного пункта: [3. 1. 2. 9. 8.]\n",
            "              precision    recall  f1-score   support\n",
            "\n",
            "         0.0       0.00      0.00      0.00        28\n",
            "         1.0       0.67      1.00      0.80        56\n",
            "\n",
            "    accuracy                           0.67        84\n",
            "   macro avg       0.33      0.50      0.40        84\n",
            "weighted avg       0.44      0.67      0.53        84\n",
            "\n",
            "              precision    recall  f1-score   support\n",
            "\n",
            "         0.0       0.68      0.61      0.64        28\n",
            "         1.0       0.81      0.86      0.83        56\n",
            "\n",
            "    accuracy                           0.77        84\n",
            "   macro avg       0.75      0.73      0.74        84\n",
            "weighted avg       0.77      0.77      0.77        84\n",
            "\n"
          ]
        },
        {
          "output_type": "stream",
          "name": "stderr",
          "text": [
            "/usr/local/lib/python3.9/dist-packages/sklearn/metrics/_classification.py:1344: UndefinedMetricWarning: Precision and F-score are ill-defined and being set to 0.0 in labels with no predicted samples. Use `zero_division` parameter to control this behavior.\n",
            "  _warn_prf(average, modifier, msg_start, len(result))\n",
            "/usr/local/lib/python3.9/dist-packages/sklearn/metrics/_classification.py:1344: UndefinedMetricWarning: Precision and F-score are ill-defined and being set to 0.0 in labels with no predicted samples. Use `zero_division` parameter to control this behavior.\n",
            "  _warn_prf(average, modifier, msg_start, len(result))\n",
            "/usr/local/lib/python3.9/dist-packages/sklearn/metrics/_classification.py:1344: UndefinedMetricWarning: Precision and F-score are ill-defined and being set to 0.0 in labels with no predicted samples. Use `zero_division` parameter to control this behavior.\n",
            "  _warn_prf(average, modifier, msg_start, len(result))\n"
          ]
        }
      ]
    },
    {
      "cell_type": "markdown",
      "source": [
        "Результат ухудшился, таким образом, неравенство между большими и малыми городами в Псковской области выражается не только в доходах, но и в степени цифровизации."
      ],
      "metadata": {
        "id": "bzrhTcYG5fat"
      }
    },
    {
      "cell_type": "markdown",
      "source": [
        "В условиях крайне ограниченного времени на подготовку остаются нерассмотренными вопросы: \n",
        "\n",
        "- кросс-валидация (сохраняется ли удовлетворительный результат при других разбиениях на обучающую и тестовую выборку?)\n",
        "- можно ли улучшить качество, подобрав гиперпараметры классификаторов? \n",
        "- как будет изменяться результат при удалении других признаков и добавлении новых?\n",
        "- как интерпретировать вклад разных признаков в дерево решений?\n",
        "\n",
        "Если бы это была задача для работы в реальной жизни, то на эти вопросы стоило бы ответить."
      ],
      "metadata": {
        "id": "gvLoagv55sWe"
      }
    }
  ],
  "metadata": {
    "colab": {
      "provenance": []
    },
    "kernelspec": {
      "display_name": "Python 3",
      "language": "python",
      "name": "python3"
    },
    "language_info": {
      "codemirror_mode": {
        "name": "ipython",
        "version": 3
      },
      "file_extension": ".py",
      "mimetype": "text/x-python",
      "name": "python",
      "nbconvert_exporter": "python",
      "pygments_lexer": "ipython3",
      "version": "3.7.7"
    }
  },
  "nbformat": 4,
  "nbformat_minor": 0
}